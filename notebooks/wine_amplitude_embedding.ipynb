{
 "cells": [
  {
   "cell_type": "code",
   "execution_count": 2,
   "id": "370ac0c9",
   "metadata": {},
   "outputs": [],
   "source": [
    "%load_ext autoreload\n",
    "%autoreload 2"
   ]
  },
  {
   "cell_type": "code",
   "execution_count": 3,
   "id": "53a86d88",
   "metadata": {},
   "outputs": [
    {
     "name": "stdout",
     "output_type": "stream",
     "text": [
      "C:\\Users\\Dimitri\\workspaces\\opensource\\quantum-machine-learning\n"
     ]
    },
    {
     "name": "stderr",
     "output_type": "stream",
     "text": [
      "C:\\Users\\Dimitri\\anaconda3\\envs\\quantum-machine-learning\\Lib\\site-packages\\IPython\\core\\magics\\osm.py:417: UserWarning: using dhist requires you to install the `pickleshare` library.\n",
      "  self.shell.db['dhist'] = compress_dhist(dhist)[-100:]\n"
     ]
    }
   ],
   "source": [
    "%cd .."
   ]
  },
  {
   "cell_type": "markdown",
   "id": "37182bd2",
   "metadata": {},
   "source": [
    "$\n",
    "\\newcommand{\\ket}[1]{\\left|{#1}\\right\\rangle}\n",
    "\\newcommand{\\bra}[1]{\\left\\langle{#1}\\right|}\n",
    "\\newcommand{\\braket}[2]{\\left\\langle{#1}\\middle|{#2}\\right\\rangle}\n",
    "$"
   ]
  },
  {
   "cell_type": "code",
   "execution_count": 4,
   "id": "0baf7f7c",
   "metadata": {},
   "outputs": [],
   "source": [
    "from sklearn.model_selection import train_test_split\n",
    "from sklearn.preprocessing import StandardScaler, OneHotEncoder\n",
    "from sklearn.metrics import accuracy_score, classification_report\n",
    "from sklearn.decomposition import PCA\n",
    "from sklearn.datasets import load_wine\n",
    "import numpy as np\n",
    "import matplotlib.pyplot as plt\n",
    "\n",
    "from penny.classifier import BinaryClassifier, ClassifierContext\n",
    "from penny.torch_classifier import *\n",
    "from penny.models import *\n",
    "from utils.embeddings import *\n",
    "from utils.reporting import *\n",
    "from utils.preprocess import *"
   ]
  },
  {
   "cell_type": "code",
   "execution_count": 6,
   "id": "ad619c65-b979-48e0-895a-a2e165cbdefe",
   "metadata": {},
   "outputs": [],
   "source": [
    "random_seed = 123124\n",
    "np.random.seed(random_seed)"
   ]
  },
  {
   "cell_type": "code",
   "execution_count": 10,
   "id": "cb2732a1",
   "metadata": {},
   "outputs": [
    {
     "data": {
      "text/plain": [
       "(178, 13)"
      ]
     },
     "execution_count": 10,
     "metadata": {},
     "output_type": "execute_result"
    }
   ],
   "source": [
    "# Load the wine dataset \n",
    "wine_features, wine_labels = load_wine(return_X_y=True)\n",
    "wine_features.shape"
   ]
  },
  {
   "cell_type": "code",
   "execution_count": 11,
   "id": "6094d13e",
   "metadata": {},
   "outputs": [],
   "source": [
    "scaler = StandardScaler()\n",
    "wine_scaled_features = scaler.fit_transform(wine_features)\n",
    "y = wine_labels\n",
    "y_hot = OneHotEncoder(sparse_output=False).fit_transform(y.reshape(-1, 1))\n",
    "X_scaled, y, y_hot = tensorize((wine_scaled_features, y, y_hot))\n",
    "X_train, X_test, y_train, y_test, y_train_hot, y_test_hot = train_test_split(X_scaled, y, y_hot,\n",
    "                                                                                 shuffle=True, test_size=0.2,\n",
    "                                                                                 random_state=random_seed)"
   ]
  },
  {
   "cell_type": "code",
   "execution_count": 12,
   "id": "ed4f5500-5c2e-4aff-92f2-b02b310add23",
   "metadata": {},
   "outputs": [],
   "source": [
    "num_features = 5\n",
    "\n",
    "pca = PCA(n_components=num_features)\n",
    "X_train_pca = pca.fit_transform(X_train)\n",
    "X_train_scaled = scale_for_angle_encoding(X_train_pca)\n",
    "X_test_pca = pca.transform(X_test)\n",
    "X_test_scaled = scale_for_angle_encoding(X_test_pca)"
   ]
  },
  {
   "cell_type": "code",
   "execution_count": 13,
   "id": "e9b86212",
   "metadata": {},
   "outputs": [],
   "source": [
    "qubits = 5\n",
    "num_classes = 3\n",
    "\n",
    "angle_tracker = HistoryTracker(X_train_scaled, y_train)\n",
    "classifier = IterationTorchClassifier(\n",
    "        model=MultiClassQMLModel(qubits, num_classes=num_classes),\n",
    "        num_classes=num_classes,\n",
    "        weights_shape=(3, qubits, 3),\n",
    "        iterations=100,\n",
    "        report_fn=angle_tracker\n",
    "    )"
   ]
  },
  {
   "cell_type": "code",
   "execution_count": 14,
   "id": "e1e4d1ed-bf4f-47d1-bd47-98bd3f347158",
   "metadata": {},
   "outputs": [
    {
     "name": "stdout",
     "output_type": "stream",
     "text": [
      "Iter:    10 | Accuracy: 0.6267606 \n",
      "Iter:    20 | Accuracy: 0.6408451 \n",
      "Iter:    30 | Accuracy: 0.6126761 \n",
      "Iter:    40 | Accuracy: 0.8943662 \n",
      "Iter:    50 | Accuracy: 0.8309859 \n",
      "Iter:    60 | Accuracy: 0.8028169 \n",
      "Iter:    70 | Accuracy: 0.8943662 \n",
      "Iter:    80 | Accuracy: 0.6478873 \n",
      "Iter:    90 | Accuracy: 0.7676056 \n",
      "Iter:   100 | Accuracy: 0.9154930 \n"
     ]
    }
   ],
   "source": [
    "classifier.fit(X_train_scaled, y_train_hot)"
   ]
  },
  {
   "cell_type": "code",
   "execution_count": 15,
   "id": "0397cf8a",
   "metadata": {},
   "outputs": [
    {
     "name": "stdout",
     "output_type": "stream",
     "text": [
      "              precision    recall  f1-score   support\n",
      "\n",
      "         0.0       0.82      0.90      0.86        10\n",
      "         1.0       0.93      0.70      0.80        20\n",
      "         2.0       0.50      0.83      0.62         6\n",
      "\n",
      "    accuracy                           0.78        36\n",
      "   macro avg       0.75      0.81      0.76        36\n",
      "weighted avg       0.83      0.78      0.79        36\n",
      "\n"
     ]
    }
   ],
   "source": [
    "predictions_test = classifier.predict(X_test_scaled)\n",
    "cr = classification_report(y_test, predictions_test)\n",
    "print(cr)"
   ]
  },
  {
   "cell_type": "code",
   "execution_count": 16,
   "id": "94903684",
   "metadata": {},
   "outputs": [],
   "source": [
    "X_train_stereo = np.apply_along_axis(inverse_stereographic_projection, 1, X_train)\n",
    "X_test_stereo = np.apply_along_axis(inverse_stereographic_projection, 1, X_test)\n",
    "X_train_stereo, X_test_stereo = tensorize((X_train_stereo, X_test_stereo))"
   ]
  },
  {
   "cell_type": "code",
   "execution_count": 17,
   "id": "5f0cef60",
   "metadata": {},
   "outputs": [],
   "source": [
    "stereo_tracker = HistoryTracker(X_train_stereo, y_train)\n",
    "qubits = 5\n",
    "num_classes = 3\n",
    "\n",
    "model = MultiClassQMLModel(qubits, num_classes=num_classes, embedding_fn=amplitude_embedding_fn)\n",
    "\n",
    "classifier = IterationTorchClassifier(\n",
    "        model=model,\n",
    "        num_classes=num_classes,\n",
    "        weights_shape=(3, qubits, 3),\n",
    "        iterations=100,\n",
    "        report_fn=stereo_tracker)"
   ]
  },
  {
   "cell_type": "code",
   "execution_count": 18,
   "id": "e9ac64ec-9b5e-417d-b12a-18e37bba656a",
   "metadata": {},
   "outputs": [
    {
     "name": "stdout",
     "output_type": "stream",
     "text": [
      "Iter:    10 | Accuracy: 0.7183099 \n",
      "Iter:    20 | Accuracy: 0.8802817 \n",
      "Iter:    30 | Accuracy: 0.8521127 \n",
      "Iter:    40 | Accuracy: 0.8661972 \n",
      "Iter:    50 | Accuracy: 0.6760563 \n",
      "Iter:    60 | Accuracy: 0.6267606 \n",
      "Iter:    70 | Accuracy: 0.7887324 \n",
      "Iter:    80 | Accuracy: 0.7676056 \n",
      "Iter:    90 | Accuracy: 0.9225352 \n",
      "Iter:   100 | Accuracy: 0.9295775 \n"
     ]
    }
   ],
   "source": [
    "classifier.fit(X_train_stereo, y_train_hot)"
   ]
  },
  {
   "cell_type": "code",
   "execution_count": 19,
   "id": "99aecc65",
   "metadata": {},
   "outputs": [
    {
     "name": "stdout",
     "output_type": "stream",
     "text": [
      "              precision    recall  f1-score   support\n",
      "\n",
      "         0.0       0.83      1.00      0.91        10\n",
      "         1.0       1.00      0.75      0.86        20\n",
      "         2.0       0.67      1.00      0.80         6\n",
      "\n",
      "    accuracy                           0.86        36\n",
      "   macro avg       0.83      0.92      0.86        36\n",
      "weighted avg       0.90      0.86      0.86        36\n",
      "\n"
     ]
    }
   ],
   "source": [
    "predictions_test = classifier.predict(X_test_stereo)\n",
    "cr = classification_report(y_test, predictions_test)\n",
    "print(cr)"
   ]
  },
  {
   "cell_type": "code",
   "execution_count": 20,
   "id": "6af1554e",
   "metadata": {},
   "outputs": [
    {
     "name": "stderr",
     "output_type": "stream",
     "text": [
      "C:\\Users\\Dimitri\\AppData\\Local\\Temp\\ipykernel_37684\\4073089542.py:1: DeprecationWarning: \n",
      "Pyarrow will become a required dependency of pandas in the next major release of pandas (pandas 3.0),\n",
      "(to allow more performant data types, such as the Arrow string type, and better interoperability with other libraries)\n",
      "but was not found to be installed on your system.\n",
      "If this would cause problems for you,\n",
      "please provide us feedback at https://github.com/pandas-dev/pandas/issues/54466\n",
      "        \n",
      "  import pandas as pd\n"
     ]
    },
    {
     "data": {
      "text/plain": [
       "<Axes: title={'center': 'Performance comparison for Embeddings'}>"
      ]
     },
     "execution_count": 20,
     "metadata": {},
     "output_type": "execute_result"
    },
    {
     "data": {
      "image/png": "[encoded data removed]",
      "text/plain": [
       "<Figure size 640x480 with 1 Axes>"
      ]
     },
     "metadata": {},
     "output_type": "display_data"
    }
   ],
   "source": [
    "import pandas as pd\n",
    "\n",
    "df = pd.DataFrame(list(zip(angle_tracker.history, stereo_tracker.history)), \n",
    "                  columns=['Angle', 'Stereographic'])\n",
    "df.plot(title='Performance comparison for Embeddings')"
   ]
  },
  {
   "cell_type": "code",
   "execution_count": null,
   "id": "cf0600f3",
   "metadata": {},
   "outputs": [],
   "source": []
  }
 ],
 "metadata": {
  "kernelspec": {
   "display_name": "quantum-machine-learning",
   "language": "python",
   "name": "quantum-machine-learning"
  },
  "language_info": {
   "codemirror_mode": {
    "name": "ipython",
    "version": 3
   },
   "file_extension": ".py",
   "mimetype": "text/x-python",
   "name": "python",
   "nbconvert_exporter": "python",
   "pygments_lexer": "ipython3",
   "version": "3.11.7"
  },
  "widgets": {
   "application/vnd.jupyter.widget-state+json": {
    "state": {},
    "version_major": 2,
    "version_minor": 0
   }
  }
 },
 "nbformat": 4,
 "nbformat_minor": 5
}

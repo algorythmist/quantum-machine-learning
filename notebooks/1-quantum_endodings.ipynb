{
 "cells": [
  {
   "cell_type": "code",
   "execution_count": 1,
   "id": "6c3ce3b3-a7b5-4bf1-89a5-80fea2b3d2a7",
   "metadata": {},
   "outputs": [
    {
     "name": "stdout",
     "output_type": "stream",
     "text": [
      "C:\\Users\\Dimitri\\workspaces\\quantum\\quantum-machine-learning\n"
     ]
    }
   ],
   "source": [
    "%load_ext autoreload\n",
    "%autoreload 2\n",
    "%cd .."
   ]
  },
  {
   "cell_type": "markdown",
   "id": "d0258113-11ae-4844-a722-ac5d4399fc04",
   "metadata": {},
   "source": [
    "# Architecture of Quantum Variational Classifier"
   ]
  },
  {
   "cell_type": "markdown",
   "id": "81c025e3-9cb1-48b3-91d3-3ecb983c324c",
   "metadata": {},
   "source": [
    "![Machine Learning System](qml.jpg)"
   ]
  },
  {
   "cell_type": "markdown",
   "id": "da9e835d-8a6e-4628-b145-9e585ecc63e9",
   "metadata": {},
   "source": [
    "- The Feature Map encodes the input data - a numerical vector - into a quantum state.\n",
    "- The Machine Learning Model is implemented with a Quantum Circuit, which transforms the quantum state. The circuit has several tunable parameters like a regular machine learning model\n",
    "- The output of the circuit is obtained by means of a measurement of the quantum state. This measurement is probabilistic and will in general give a random outcome, but with known probability distribution. This is more or less equivalent to the activation functions on the neuron.\n",
    "- The outputs of the classifier, together with the actual outputs are fed into an optimizer which is implemented on a classical computer.\n"
   ]
  },
  {
   "cell_type": "markdown",
   "id": "3cdea23e-8771-412b-8f70-0f8254b79f72",
   "metadata": {},
   "source": [
    "# Quantum Encoding - Feature Maps\n",
    "\n",
    "The first step in a quantum circuit is to encode the classical state vector into a quantum circuit by mapping an n-dimensional vector v to a m quits\n",
    "\n",
    "Some commonly used embeddings are:\n",
    "\n",
    "- Basic Encoding: Represent a number as a bit sequence and represent each bit as a qubit. This encoding is requires too many qubits for a typical ML problem unless dealing with binary data.\n",
    "\n",
    "- Angle Encoding: Rotate each qubit by an angle corresponding to each value in the vector. The vector must be rescaled first. This embeds an n-dim vector into n qubits\n",
    "\n",
    "- Amplitude Encoding: Each vector is encoded as a real amplitude. Since an n-qubit vector has 2^n amplitudes, this encoding achieves a logarithmic compression of the input, making it ver desirable for high dimensional data sets. However, each input vector must be normalized to have (Hilbert) norm = 1.\n",
    "\n",
    "- Kernel Encodings (eg ZZFeatureMap) - TODO\n",
    "    - ZFeatureMap\n",
    "    - ZZFeatureMap\n",
    "    - PauliFeatureMap\n",
    "\n"
   ]
  },
  {
   "cell_type": "markdown",
   "id": "4c9a99fb-78c8-45a4-974f-55eb12438a20",
   "metadata": {},
   "source": [
    "# Amplitde Embedding Failure\n",
    "\n",
    "Whereas Amplitude Embedding appears to offer significant compression, it performs poorly in training QVMs. Let's look at an example of training a QVM to  the classic Wisconsin Breast Cancer Data set. The data set has 30 predictors, which means that we only need 5 qubits to represent the entire data set using Amplitude Embedding. We would need 30 qubit to represent the same data set using Angle Embedding, which is prohibitive for a simulator. \n",
    "\n",
    "In order to use Angle Embedding we will apply preprocessing with PCA and reduce the data set to 5 features corresponding to the first 5 principal components.\n"
   ]
  },
  {
   "cell_type": "code",
   "execution_count": 7,
   "id": "c2def4ac-f215-43d0-932f-2e848fc54494",
   "metadata": {},
   "outputs": [],
   "source": [
    "# Import libraries\n",
    "from sklearn.model_selection import train_test_split\n",
    "from sklearn.preprocessing import StandardScaler, OneHotEncoder\n",
    "from sklearn.metrics import accuracy_score, classification_report\n",
    "from sklearn.decomposition import PCA\n",
    "from sklearn.datasets import load_iris, load_breast_cancer\n",
    "import numpy as np\n",
    "import matplotlib.pyplot as plt\n",
    "from utils.preprocess import scale_for_angle_encoding, scale_for_amplitude_encoding\n",
    "from utils.reporting import HistoryTracker\n",
    "from penny.classifier import BinaryClassifier, ClassifierContext\n",
    "from penny.models import *"
   ]
  },
  {
   "cell_type": "code",
   "execution_count": 8,
   "id": "0390a7ef-8263-4e5c-9213-0130ffb2a0eb",
   "metadata": {},
   "outputs": [],
   "source": [
    "# Get the dataset, scale, and divide into training and test set\n",
    "\n",
    "features, y = load_breast_cancer(return_X_y=True)\n",
    "# convert from 0/1 to -1/1\n",
    "y[y == 0] = -1\n",
    "# scale\n",
    "X = StandardScaler().fit_transform(features)\n",
    "\n",
    "X_train, X_test, y_train, y_test = train_test_split(X, y, shuffle=True, test_size=0.2)"
   ]
  },
  {
   "cell_type": "code",
   "execution_count": 9,
   "id": "4f77f7bc-f6f7-472f-8283-85d2388c0ff1",
   "metadata": {},
   "outputs": [],
   "source": [
    "# Use PCA to prepare for Angle Encoding\n",
    "\n",
    "num_features = 5\n",
    "\n",
    "pca = PCA(n_components=num_features)\n",
    "X_train_pca = pca.fit_transform(X_train)\n",
    "X_train_scaled = scale_for_angle_encoding(X_train_pca)\n",
    "X_test_pca = pca.transform(X_test)\n",
    "X_test_scaled = scale_for_angle_encoding(X_test_pca)"
   ]
  },
  {
   "cell_type": "code",
   "execution_count": 12,
   "id": "3eabd3f2-449c-4afa-a7c7-131e1985d44f",
   "metadata": {},
   "outputs": [
    {
     "name": "stdout",
     "output_type": "stream",
     "text": [
      "Iter:    10 | Accuracy: 0.4307692 \n",
      "Iter:    20 | Accuracy: 0.5824176 \n",
      "Iter:    30 | Accuracy: 0.6351648 \n",
      "Iter:    40 | Accuracy: 0.6351648 \n",
      "Iter:    50 | Accuracy: 0.7340659 \n",
      "Iter:    60 | Accuracy: 0.8879121 \n",
      "Iter:    70 | Accuracy: 0.9208791 \n",
      "Iter:    80 | Accuracy: 0.9164835 \n",
      "Iter:    90 | Accuracy: 0.9164835 \n",
      "Iter:   100 | Accuracy: 0.9120879 \n"
     ]
    }
   ],
   "source": [
    "angle_history_tracker = HistoryTracker(X_train_scaled, y_train)\n",
    "num_qubits = num_features\n",
    "num_layers = 3\n",
    "classifier = BinaryClassifier(model=StronglyEntangledBinaryModel(num_qubits),\n",
    "                                  weights_shape=(3, num_qubits, 3),\n",
    "                                  device=\"lightning.qubit\",\n",
    "                                  iterations=100,\n",
    "                                  report_fn=angle_history_tracker)\n",
    "classifier.fit(X_train_scaled, y_train)"
   ]
  },
  {
   "cell_type": "code",
   "execution_count": 13,
   "id": "fa0311e6-d43d-4f72-b723-c579ec2df8d6",
   "metadata": {},
   "outputs": [
    {
     "name": "stdout",
     "output_type": "stream",
     "text": [
      "              precision    recall  f1-score   support\n",
      "\n",
      "          -1       0.73      0.80      0.76        40\n",
      "           1       0.89      0.84      0.86        74\n",
      "\n",
      "    accuracy                           0.82       114\n",
      "   macro avg       0.81      0.82      0.81       114\n",
      "weighted avg       0.83      0.82      0.83       114\n",
      "\n"
     ]
    }
   ],
   "source": [
    "# Classification results\n",
    "predictions_test = classifier.predict(X_test_scaled)\n",
    "cr = classification_report(y_test, predictions_test)\n",
    "print(cr)"
   ]
  },
  {
   "cell_type": "code",
   "execution_count": 14,
   "id": "396a3508-434e-4ea6-9028-3a13ae5a5073",
   "metadata": {},
   "outputs": [
    {
     "name": "stdout",
     "output_type": "stream",
     "text": [
      "Iter:    10 | Accuracy: 0.6505495 \n",
      "Iter:    20 | Accuracy: 0.6461538 \n",
      "Iter:    30 | Accuracy: 0.6527473 \n",
      "Iter:    40 | Accuracy: 0.6615385 \n",
      "Iter:    50 | Accuracy: 0.6571429 \n",
      "Iter:    60 | Accuracy: 0.6549451 \n",
      "Iter:    70 | Accuracy: 0.6615385 \n",
      "Iter:    80 | Accuracy: 0.6945055 \n",
      "Iter:    90 | Accuracy: 0.6659341 \n",
      "Iter:   100 | Accuracy: 0.6835165 \n"
     ]
    }
   ],
   "source": [
    "# Now train using Amplitude Encoding\n",
    "\n",
    "X_train_ampl = scale_for_amplitude_encoding(X_train)\n",
    "X_test_ampl = scale_for_amplitude_encoding(X_test)\n",
    "\n",
    "amplitude_history_tracker = HistoryTracker(X_train_ampl, y_train)\n",
    "\n",
    "num_qubits = 5\n",
    "model = StronglyEntangledBinaryModel(num_qubits, embedding_fn=amplitude_embedding_fn)\n",
    "classifier = BinaryClassifier(model=model,\n",
    "                                  weights_shape=(3, num_qubits, 3),\n",
    "                                  device=\"lightning.qubit\",\n",
    "                                  iterations=100,\n",
    "                                  report_fn=amplitude_history_tracker)\n",
    "classifier.fit(X_train_ampl, y_train)"
   ]
  },
  {
   "cell_type": "code",
   "execution_count": 16,
   "id": "15056212-9a5f-4833-aa66-1f33dc8fb6d5",
   "metadata": {},
   "outputs": [
    {
     "name": "stdout",
     "output_type": "stream",
     "text": [
      "              precision    recall  f1-score   support\n",
      "\n",
      "          -1       0.45      0.60      0.52        40\n",
      "           1       0.74      0.61      0.67        74\n",
      "\n",
      "    accuracy                           0.61       114\n",
      "   macro avg       0.60      0.60      0.59       114\n",
      "weighted avg       0.64      0.61      0.61       114\n",
      "\n"
     ]
    }
   ],
   "source": [
    "predictions_test = classifier.predict(X_test)\n",
    "cr = classification_report(y_test, predictions_test)\n",
    "print(cr)"
   ]
  },
  {
   "cell_type": "code",
   "execution_count": 18,
   "id": "a9b85864-6845-4214-9256-be7d3ce93ab1",
   "metadata": {},
   "outputs": [
    {
     "data": {
      "text/plain": [
       "<Axes: title={'center': 'Angle vs Amplitude Encoding'}>"
      ]
     },
     "execution_count": 18,
     "metadata": {},
     "output_type": "execute_result"
    },
    {
     "data": {
      "image/png": "[encoded data removed]",
      "text/plain": [
       "<Figure size 640x480 with 1 Axes>"
      ]
     },
     "metadata": {},
     "output_type": "display_data"
    }
   ],
   "source": [
    "# Compare results\n",
    "\n",
    "import pandas as pd\n",
    "\n",
    "df = pd.DataFrame(list(zip(angle_history_tracker.history, amplitude_history_tracker.history)), \n",
    "                  columns=['Anlge with PCA', 'Amplitude'])\n",
    "df.plot(title='Angle vs Amplitude Encoding')"
   ]
  },
  {
   "cell_type": "markdown",
   "id": "7ba69f6b-2f7c-4554-bf62-313f7009ab34",
   "metadata": {},
   "source": [
    "Clearly, there is something wrong with raw Amplitude Encoding. "
   ]
  },
  {
   "cell_type": "code",
   "execution_count": null,
   "id": "3ba201c8-ac42-4884-aca9-970fb5cc3ac3",
   "metadata": {},
   "outputs": [],
   "source": []
  }
 ],
 "metadata": {
  "kernelspec": {
   "display_name": "quantum-machine-learning",
   "language": "python",
   "name": "quantum-machine-learning"
  },
  "language_info": {
   "codemirror_mode": {
    "name": "ipython",
    "version": 3
   },
   "file_extension": ".py",
   "mimetype": "text/x-python",
   "name": "python",
   "nbconvert_exporter": "python",
   "pygments_lexer": "ipython3",
   "version": "3.10.14"
  }
 },
 "nbformat": 4,
 "nbformat_minor": 5
}

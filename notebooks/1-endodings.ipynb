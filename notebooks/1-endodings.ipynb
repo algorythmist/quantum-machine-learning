{
 "cells": [
  {
   "cell_type": "code",
   "execution_count": 1,
   "id": "6c3ce3b3-a7b5-4bf1-89a5-80fea2b3d2a7",
   "metadata": {},
   "outputs": [],
   "source": [
    "%load_ext autoreload\n",
    "%autoreload 2"
   ]
  },
  {
   "cell_type": "markdown",
   "id": "d0258113-11ae-4844-a722-ac5d4399fc04",
   "metadata": {},
   "source": [
    "# Architecture of Quantum Variational Classifier"
   ]
  },
  {
   "cell_type": "markdown",
   "id": "81c025e3-9cb1-48b3-91d3-3ecb983c324c",
   "metadata": {},
   "source": [
    "![Machine Learning System](qml.jpg)"
   ]
  },
  {
   "cell_type": "markdown",
   "id": "da9e835d-8a6e-4628-b145-9e585ecc63e9",
   "metadata": {},
   "source": [
    "- The Feature Map encodes the input data - a numerical vector - into a quantum state.\n",
    "- The Machine Learning Model is implemented with a Quantum Circuit, which transforms the quantum state. The circuit has several tunable parameters like a regular machine learning model\n",
    "- The output of the circuit is obtained by means of a measurement of the quantum state. This measurement is probabilistic and will in general give a random outcome, but with known probability distribution. This is more or less equivalent to the activation functions on the neuron.\n",
    "- The outputs of the classifier, together with the actual outputs are fed into an optimizer which is implemented on a classical computer.\n"
   ]
  },
  {
   "cell_type": "markdown",
   "id": "3cdea23e-8771-412b-8f70-0f8254b79f72",
   "metadata": {},
   "source": [
    "# Quantum Encoding - Feature Maps\n",
    "\n",
    "The first step in a quantum circuit is to encode the classical state vector into a quantum circuit by mapping an n-dimensional vector v to a m quits\n",
    "\n",
    "Some commonly used embeddings are:\n",
    "\n",
    "- Basic Encoding: Represent a number as a bit sequence and represent each bit as a qubit. This encoding is requires too many qubits for a typical ML problem unless dealing with binary data.\n",
    "\n",
    "- Angle Encoding: Rotate each qubit by an angle corresponding to each value in the vector. The vector must be rescaled first. This embeds an n-dim vector into n qubits\n",
    "\n",
    "- Amplitude Encoding: Each vector is encoded as a real amplitude. Since an n-qubit vector has 2^n amplitudes, this encoding achieves a logarithmic compression of the input, making it ver desirable for high dimensional data sets. However, each input vector must be normalized to have (Hilbert) norm = 1.\n",
    "\n",
    "- Kernel Encodings (eg ZZFeatureMap) - TODO\n",
    "    - ZFeatureMap\n",
    "    - ZZFeatureMap\n",
    "    - PauliFeatureMap\n",
    "\n"
   ]
  },
  {
   "cell_type": "code",
   "execution_count": null,
   "id": "c1b580a5-5b0f-49cb-bd97-f70a9bd5c499",
   "metadata": {},
   "outputs": [],
   "source": []
  }
 ],
 "metadata": {
  "kernelspec": {
   "display_name": "quantum-machine-learning",
   "language": "python",
   "name": "quantum-machine-learning"
  },
  "language_info": {
   "codemirror_mode": {
    "name": "ipython",
    "version": 3
   },
   "file_extension": ".py",
   "mimetype": "text/x-python",
   "name": "python",
   "nbconvert_exporter": "python",
   "pygments_lexer": "ipython3",
   "version": "3.10.14"
  }
 },
 "nbformat": 4,
 "nbformat_minor": 5
}

{
 "cells": [
  {
   "cell_type": "code",
   "execution_count": 1,
   "id": "370ac0c9",
   "metadata": {},
   "outputs": [],
   "source": [
    "%load_ext autoreload\n",
    "%autoreload 2"
   ]
  },
  {
   "cell_type": "code",
   "execution_count": 2,
   "id": "53a86d88",
   "metadata": {},
   "outputs": [
    {
     "name": "stdout",
     "output_type": "stream",
     "text": [
      "C:\\Users\\Dimitri\\workspaces\\opensource\\quantum-machine-learning\n"
     ]
    },
    {
     "name": "stderr",
     "output_type": "stream",
     "text": [
      "C:\\Users\\Dimitri\\anaconda3\\envs\\quantum-machine-learning\\Lib\\site-packages\\IPython\\core\\magics\\osm.py:417: UserWarning: using dhist requires you to install the `pickleshare` library.\n",
      "  self.shell.db['dhist'] = compress_dhist(dhist)[-100:]\n"
     ]
    }
   ],
   "source": [
    "%cd .."
   ]
  },
  {
   "cell_type": "markdown",
   "id": "37182bd2",
   "metadata": {},
   "source": [
    "$\n",
    "\\newcommand{\\ket}[1]{\\left|{#1}\\right\\rangle}\n",
    "\\newcommand{\\bra}[1]{\\left\\langle{#1}\\right|}\n",
    "\\newcommand{\\braket}[2]{\\left\\langle{#1}\\middle|{#2}\\right\\rangle}\n",
    "$"
   ]
  },
  {
   "cell_type": "code",
   "execution_count": 3,
   "id": "0baf7f7c",
   "metadata": {},
   "outputs": [],
   "source": [
    "from sklearn.model_selection import train_test_split\n",
    "from sklearn.preprocessing import StandardScaler, OneHotEncoder\n",
    "from sklearn.metrics import accuracy_score, classification_report\n",
    "from sklearn.decomposition import PCA\n",
    "from sklearn.datasets import load_iris\n",
    "import numpy as np\n",
    "import matplotlib.pyplot as plt\n",
    "\n",
    "from penny.classifier import BinaryClassifier, ClassifierContext\n",
    "from penny.torch_classifier import *\n",
    "from penny.models import *\n",
    "from utils.embeddings import *\n",
    "from utils.reporting import *\n",
    "from utils.preprocess import *"
   ]
  },
  {
   "cell_type": "code",
   "execution_count": 4,
   "id": "ad619c65-b979-48e0-895a-a2e165cbdefe",
   "metadata": {},
   "outputs": [],
   "source": [
    "random_seed = 123124\n",
    "np.random.seed(random_seed)"
   ]
  },
  {
   "cell_type": "code",
   "execution_count": 5,
   "id": "cb2732a1",
   "metadata": {},
   "outputs": [],
   "source": [
    "# Load the iris dataset \n",
    "iris_features, iris_labels = load_iris(return_X_y=True)"
   ]
  },
  {
   "cell_type": "code",
   "execution_count": 6,
   "id": "6094d13e",
   "metadata": {},
   "outputs": [],
   "source": [
    "scaler = StandardScaler()\n",
    "iris_scaled_features = scaler.fit_transform(iris_features)\n",
    "y = iris_labels\n",
    "y_hot = OneHotEncoder(sparse_output=False).fit_transform(y.reshape(-1, 1))\n",
    "X_scaled, y, y_hot = tensorize((iris_scaled_features, y, y_hot))\n",
    "X_train, X_test, y_train, y_test, y_train_hot, y_test_hot = train_test_split(X_scaled, y, y_hot,\n",
    "                                                                                 shuffle=True, test_size=0.2,\n",
    "                                                                                 random_state=random_seed)"
   ]
  },
  {
   "cell_type": "code",
   "execution_count": 7,
   "id": "e9b86212",
   "metadata": {},
   "outputs": [],
   "source": [
    "angle_tracker = HistoryTracker(X_train, y_train)\n",
    "qubits = 4\n",
    "num_classes = 3\n",
    "classifier = IterationTorchClassifier(\n",
    "        model=MultiClassQMLModel(qubits, num_classes=num_classes),\n",
    "        num_classes=num_classes,\n",
    "        weights_shape=(3, qubits, 3),\n",
    "        iterations=100,\n",
    "        report_fn=angle_tracker\n",
    "    )"
   ]
  },
  {
   "cell_type": "code",
   "execution_count": 8,
   "id": "e1e4d1ed-bf4f-47d1-bd47-98bd3f347158",
   "metadata": {},
   "outputs": [
    {
     "name": "stdout",
     "output_type": "stream",
     "text": [
      "Iter:    10 | Accuracy: 0.5500000 \n",
      "Iter:    20 | Accuracy: 0.8250000 \n",
      "Iter:    30 | Accuracy: 0.6666667 \n",
      "Iter:    40 | Accuracy: 0.9250000 \n",
      "Iter:    50 | Accuracy: 0.9083333 \n",
      "Iter:    60 | Accuracy: 0.9083333 \n",
      "Iter:    70 | Accuracy: 0.7666667 \n",
      "Iter:    80 | Accuracy: 0.8083333 \n",
      "Iter:    90 | Accuracy: 0.7833333 \n",
      "Iter:   100 | Accuracy: 0.8333333 \n"
     ]
    }
   ],
   "source": [
    "classifier.fit(X_train, y_train_hot)"
   ]
  },
  {
   "cell_type": "code",
   "execution_count": 9,
   "id": "0397cf8a",
   "metadata": {},
   "outputs": [
    {
     "name": "stdout",
     "output_type": "stream",
     "text": [
      "              precision    recall  f1-score   support\n",
      "\n",
      "         0.0       0.92      1.00      0.96        12\n",
      "         1.0       1.00      0.56      0.71         9\n",
      "         2.0       0.75      1.00      0.86         9\n",
      "\n",
      "    accuracy                           0.87        30\n",
      "   macro avg       0.89      0.85      0.84        30\n",
      "weighted avg       0.89      0.87      0.86        30\n",
      "\n"
     ]
    }
   ],
   "source": [
    "predictions_test = classifier.predict(X_test)\n",
    "cr = classification_report(y_test, predictions_test)\n",
    "print(cr)"
   ]
  },
  {
   "cell_type": "code",
   "execution_count": 10,
   "id": "94903684",
   "metadata": {},
   "outputs": [],
   "source": [
    "X_train_stereo = np.apply_along_axis(inverse_stereographic_projection, 1, X_train)\n",
    "X_test_stereo = np.apply_along_axis(inverse_stereographic_projection, 1, X_test)\n",
    "X_train_stereo, X_test_stereo = tensorize((X_train_stereo, X_test_stereo))"
   ]
  },
  {
   "cell_type": "code",
   "execution_count": 11,
   "id": "5f0cef60",
   "metadata": {},
   "outputs": [],
   "source": [
    "stereo_tracker = HistoryTracker(X_train_stereo, y_train)\n",
    "qubits = 3\n",
    "num_classes = 3\n",
    "\n",
    "model = MultiClassQMLModel(qubits, num_classes=num_classes, embedding_fn=amplitude_embedding_fn)\n",
    "\n",
    "classifier = IterationTorchClassifier(\n",
    "        model=model,\n",
    "        num_classes=num_classes,\n",
    "        weights_shape=(3, qubits, 3),\n",
    "        iterations=100,\n",
    "        report_fn=stereo_tracker)"
   ]
  },
  {
   "cell_type": "code",
   "execution_count": 12,
   "id": "e9ac64ec-9b5e-417d-b12a-18e37bba656a",
   "metadata": {},
   "outputs": [
    {
     "name": "stdout",
     "output_type": "stream",
     "text": [
      "Iter:    10 | Accuracy: 0.8000000 \n",
      "Iter:    20 | Accuracy: 0.7000000 \n",
      "Iter:    30 | Accuracy: 0.7416667 \n",
      "Iter:    40 | Accuracy: 0.8083333 \n",
      "Iter:    50 | Accuracy: 0.8250000 \n",
      "Iter:    60 | Accuracy: 0.7666667 \n",
      "Iter:    70 | Accuracy: 0.8416667 \n",
      "Iter:    80 | Accuracy: 0.8750000 \n",
      "Iter:    90 | Accuracy: 0.9083333 \n",
      "Iter:   100 | Accuracy: 0.9000000 \n"
     ]
    }
   ],
   "source": [
    "classifier.fit(X_train_stereo, y_train_hot)"
   ]
  },
  {
   "cell_type": "code",
   "execution_count": 13,
   "id": "99aecc65",
   "metadata": {},
   "outputs": [
    {
     "name": "stdout",
     "output_type": "stream",
     "text": [
      "              precision    recall  f1-score   support\n",
      "\n",
      "         0.0       1.00      1.00      1.00        12\n",
      "         1.0       1.00      0.78      0.88         9\n",
      "         2.0       0.82      1.00      0.90         9\n",
      "\n",
      "    accuracy                           0.93        30\n",
      "   macro avg       0.94      0.93      0.92        30\n",
      "weighted avg       0.95      0.93      0.93        30\n",
      "\n"
     ]
    }
   ],
   "source": [
    "predictions_test = classifier.predict(X_test_stereo)\n",
    "cr = classification_report(y_test, predictions_test)\n",
    "print(cr)"
   ]
  },
  {
   "cell_type": "code",
   "execution_count": 14,
   "id": "6af1554e",
   "metadata": {},
   "outputs": [
    {
     "name": "stderr",
     "output_type": "stream",
     "text": [
      "C:\\Users\\Dimitri\\AppData\\Local\\Temp\\ipykernel_37104\\4073089542.py:1: DeprecationWarning: \n",
      "Pyarrow will become a required dependency of pandas in the next major release of pandas (pandas 3.0),\n",
      "(to allow more performant data types, such as the Arrow string type, and better interoperability with other libraries)\n",
      "but was not found to be installed on your system.\n",
      "If this would cause problems for you,\n",
      "please provide us feedback at https://github.com/pandas-dev/pandas/issues/54466\n",
      "        \n",
      "  import pandas as pd\n"
     ]
    },
    {
     "data": {
      "text/plain": [
       "<Axes: title={'center': 'Performance comparison for Embeddings'}>"
      ]
     },
     "execution_count": 14,
     "metadata": {},
     "output_type": "execute_result"
    },
    {
     "data": {
      "image/png": "[encoded data removed]",
      "text/plain": [
       "<Figure size 640x480 with 1 Axes>"
      ]
     },
     "metadata": {},
     "output_type": "display_data"
    }
   ],
   "source": [
    "import pandas as pd\n",
    "\n",
    "df = pd.DataFrame(list(zip(angle_tracker.history, stereo_tracker.history)), \n",
    "                  columns=['Angle', 'Stereographic'])\n",
    "df.plot(title='Performance comparison for Embeddings')"
   ]
  },
  {
   "cell_type": "code",
   "execution_count": null,
   "id": "cf0600f3",
   "metadata": {},
   "outputs": [],
   "source": []
  }
 ],
 "metadata": {
  "kernelspec": {
   "display_name": "quantum-machine-learning",
   "language": "python",
   "name": "quantum-machine-learning"
  },
  "language_info": {
   "codemirror_mode": {
    "name": "ipython",
    "version": 3
   },
   "file_extension": ".py",
   "mimetype": "text/x-python",
   "name": "python",
   "nbconvert_exporter": "python",
   "pygments_lexer": "ipython3",
   "version": "3.11.7"
  },
  "widgets": {
   "application/vnd.jupyter.widget-state+json": {
    "state": {},
    "version_major": 2,
    "version_minor": 0
   }
  }
 },
 "nbformat": 4,
 "nbformat_minor": 5
}

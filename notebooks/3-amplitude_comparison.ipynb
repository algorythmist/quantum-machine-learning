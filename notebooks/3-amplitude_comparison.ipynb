{
 "cells": [
  {
   "cell_type": "code",
   "execution_count": 1,
   "id": "27effc8d-64e4-4ec4-9b48-2312a9d38c0f",
   "metadata": {},
   "outputs": [],
   "source": [
    "%load_ext autoreload\n",
    "%autoreload 2"
   ]
  },
  {
   "cell_type": "code",
   "execution_count": 2,
   "id": "9146a96a-44ff-4162-bad2-ffd9d6e3eed9",
   "metadata": {},
   "outputs": [
    {
     "name": "stdout",
     "output_type": "stream",
     "text": [
      "C:\\Users\\Dimitri\\workspaces\\quantum\\quantum-machine-learning\n"
     ]
    }
   ],
   "source": [
    "%cd .."
   ]
  },
  {
   "cell_type": "code",
   "execution_count": 3,
   "id": "c5c4a0be-1b92-4162-9bad-857851bc5d11",
   "metadata": {},
   "outputs": [],
   "source": [
    "from sklearn.datasets import load_breast_cancer\n",
    "from sklearn.metrics import classification_report\n",
    "from sklearn.model_selection import train_test_split\n",
    "from sklearn.preprocessing import StandardScaler\n",
    "\n",
    "from penny.classifier import BinaryClassifier\n",
    "from penny.models import StronglyEntangledBinaryModel, amplitude_embedding_fn\n",
    "from utils.embeddings import *\n",
    "from utils.reporting import HistoryTracker\n",
    "\n",
    "import pandas as pd"
   ]
  },
  {
   "cell_type": "code",
   "execution_count": 4,
   "id": "508a7ff3-342b-43d6-ac2a-a2b97f5ae1e8",
   "metadata": {},
   "outputs": [],
   "source": [
    "def run_experiment(X_train, X_test, y_train, y_test, projection_fn, label):\n",
    "    X_train_scaled = np.apply_along_axis(projection_fn, 1, X_train)\n",
    "    X_test_scaled = np.apply_along_axis(projection_fn, 1, X_test)\n",
    "\n",
    "    history_tracker = HistoryTracker(X_train_scaled, y_train)\n",
    "\n",
    "    num_qubits = 5\n",
    "    num_layers = 3\n",
    "    model = StronglyEntangledBinaryModel(num_qubits, embedding_fn=amplitude_embedding_fn)\n",
    "    classifier = BinaryClassifier(model=model,\n",
    "                                  weights_shape=(num_layers, num_qubits, 3),\n",
    "                                  device=\"lightning.qubit\",\n",
    "                                  iterations=150,\n",
    "                                  report_fn=history_tracker)\n",
    "    classifier.fit(X_train_scaled, y_train)\n",
    "    cr = evaluate(classifier, X_test_scaled, y_test)\n",
    "    print(f'Performance results for {label}')\n",
    "    print(cr)\n",
    "    return classifier, history_tracker"
   ]
  },
  {
   "cell_type": "code",
   "execution_count": 5,
   "id": "647379cc-e8bc-47f9-aa5f-3a9c1685c273",
   "metadata": {},
   "outputs": [],
   "source": [
    "def evaluate(classifier, features, labels):\n",
    "    predictions_test = classifier.predict(features)\n",
    "    return classification_report(labels, predictions_test)"
   ]
  },
  {
   "cell_type": "code",
   "execution_count": 6,
   "id": "42529a84-7260-4687-bd8a-36bc7912907f",
   "metadata": {},
   "outputs": [],
   "source": [
    "def plot_training_history(trackers, columns):\n",
    "    histories = [tracker.history for tracker in trackers]\n",
    "    df = pd.DataFrame(list(zip(*histories)), columns=columns)\n",
    "    df.plot(title='Performance comparison for Amplitude Embedding')"
   ]
  },
  {
   "cell_type": "code",
   "execution_count": 7,
   "id": "87809088-57c4-432d-a416-b50441528456",
   "metadata": {},
   "outputs": [],
   "source": [
    "seed = 31821\n",
    "np.random.seed(seed)\n",
    "\n",
    "features, y = load_breast_cancer(return_X_y=True)\n",
    "X = StandardScaler().fit_transform(features)\n",
    "y[y == 0] = -1\n",
    "X_train, X_test, y_train, y_test = train_test_split(X, y, shuffle=True, test_size=0.2, random_state=seed)\n"
   ]
  },
  {
   "cell_type": "code",
   "execution_count": 8,
   "id": "15a8dc15-01da-4fff-9e2c-15b5f5857b90",
   "metadata": {},
   "outputs": [],
   "source": [
    "import functools\n",
    "inverse_gnomonic_projection = functools.partial(arbitrary_inverse_projection, 0)\n",
    "inverse_twilight_projection = functools.partial(arbitrary_inverse_projection, -1-np.sqrt(2)/2)"
   ]
  },
  {
   "cell_type": "code",
   "execution_count": null,
   "id": "72c351c0-f684-48d4-8bc7-f86500b6d2a8",
   "metadata": {},
   "outputs": [
    {
     "name": "stdout",
     "output_type": "stream",
     "text": [
      "Iter:    10 | Accuracy: 0.6395604 \n",
      "Iter:    20 | Accuracy: 0.6857143 \n",
      "Iter:    30 | Accuracy: 0.8747253 \n",
      "Iter:    40 | Accuracy: 0.8791209 \n",
      "Iter:    50 | Accuracy: 0.9120879 \n",
      "Iter:    60 | Accuracy: 0.8659341 \n",
      "Iter:    70 | Accuracy: 0.9032967 \n",
      "Iter:    80 | Accuracy: 0.8747253 \n",
      "Iter:    90 | Accuracy: 0.9098901 \n",
      "Iter:   100 | Accuracy: 0.9274725 \n",
      "Iter:   110 | Accuracy: 0.8769231 \n",
      "Iter:   120 | Accuracy: 0.8483516 \n",
      "Iter:   130 | Accuracy: 0.9208791 \n",
      "Iter:   140 | Accuracy: 0.9230769 \n",
      "Iter:   150 | Accuracy: 0.9318681 \n",
      "Performance results for Stereographic\n",
      "              precision    recall  f1-score   support\n",
      "\n",
      "          -1       0.95      0.85      0.90        48\n",
      "           1       0.90      0.97      0.93        66\n",
      "\n",
      "    accuracy                           0.92       114\n",
      "   macro avg       0.93      0.91      0.92       114\n",
      "weighted avg       0.92      0.92      0.92       114\n",
      "\n",
      "Iter:    10 | Accuracy: 0.6461538 \n",
      "Iter:    20 | Accuracy: 0.6615385 \n",
      "Iter:    30 | Accuracy: 0.6989011 \n",
      "Iter:    40 | Accuracy: 0.7472527 \n",
      "Iter:    50 | Accuracy: 0.7714286 \n",
      "Iter:    60 | Accuracy: 0.7758242 \n",
      "Iter:    70 | Accuracy: 0.7538462 \n",
      "Iter:    80 | Accuracy: 0.7802198 \n",
      "Iter:    90 | Accuracy: 0.8131868 \n",
      "Iter:   100 | Accuracy: 0.7648352 \n",
      "Iter:   110 | Accuracy: 0.7098901 \n",
      "Iter:   120 | Accuracy: 0.6791209 \n",
      "Iter:   130 | Accuracy: 0.7076923 \n",
      "Iter:   140 | Accuracy: 0.7934066 \n",
      "Iter:   150 | Accuracy: 0.8373626 \n",
      "Performance results for Gnomonic\n",
      "              precision    recall  f1-score   support\n",
      "\n",
      "          -1       1.00      0.46      0.63        48\n",
      "           1       0.72      1.00      0.84        66\n",
      "\n",
      "    accuracy                           0.77       114\n",
      "   macro avg       0.86      0.73      0.73       114\n",
      "weighted avg       0.84      0.77      0.75       114\n",
      "\n",
      "Iter:    10 | Accuracy: 0.6549451 \n",
      "Iter:    20 | Accuracy: 0.7032967 \n",
      "Iter:    30 | Accuracy: 0.8153846 \n",
      "Iter:    40 | Accuracy: 0.9120879 \n",
      "Iter:    50 | Accuracy: 0.9274725 \n",
      "Iter:    60 | Accuracy: 0.9340659 \n",
      "Iter:    70 | Accuracy: 0.9406593 \n",
      "Iter:    80 | Accuracy: 0.9428571 \n",
      "Iter:    90 | Accuracy: 0.9340659 \n",
      "Iter:   100 | Accuracy: 0.9428571 \n",
      "Iter:   110 | Accuracy: 0.9472527 \n",
      "Iter:   120 | Accuracy: 0.9406593 \n"
     ]
    }
   ],
   "source": [
    "projections = [inverse_stereographic_projection,\n",
    "                   inverse_gnomonic_projection,\n",
    "                   inverse_twilight_projection]\n",
    "labels = ['Stereographic', 'Gnomonic', 'Twilight']\n",
    "\n",
    "classifiers = []\n",
    "trackers = []\n",
    "for projection, label in zip(projections, labels):\n",
    "    classifier, tracker = run_experiment(X_train, X_test, y_train, y_test, projection, label)\n",
    "    classifiers.append(classifier)\n",
    "    trackers.append(tracker)\n"
   ]
  },
  {
   "cell_type": "code",
   "execution_count": null,
   "id": "567eb7c7-1fc3-4d1d-a9cb-1df65f1c2180",
   "metadata": {},
   "outputs": [],
   "source": [
    "plot_training_history(trackers, columns=labels)"
   ]
  },
  {
   "cell_type": "code",
   "execution_count": null,
   "id": "54adf774-2ed2-448f-8c77-9977d0020ef4",
   "metadata": {},
   "outputs": [],
   "source": []
  }
 ],
 "metadata": {
  "kernelspec": {
   "display_name": "quantum-machine-learning",
   "language": "python",
   "name": "quantum-machine-learning"
  },
  "language_info": {
   "codemirror_mode": {
    "name": "ipython",
    "version": 3
   },
   "file_extension": ".py",
   "mimetype": "text/x-python",
   "name": "python",
   "nbconvert_exporter": "python",
   "pygments_lexer": "ipython3",
   "version": "3.10.14"
  },
  "widgets": {
   "application/vnd.jupyter.widget-state+json": {
    "state": {},
    "version_major": 2,
    "version_minor": 0
   }
  }
 },
 "nbformat": 4,
 "nbformat_minor": 5
}
